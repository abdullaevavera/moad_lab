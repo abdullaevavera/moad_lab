{
 "cells": [
  {
   "cell_type": "markdown",
   "id": "13146220",
   "metadata": {},
   "source": [
    "Практическое задание №1\n",
    "Абдуллаева Вера группа 494а"
   ]
  },
  {
   "cell_type": "markdown",
   "id": "25fdb425",
   "metadata": {},
   "source": [
    "1. Создайте массив arr_1 размером 3х4, все элементы которого равны 3."
   ]
  },
  {
   "cell_type": "code",
   "execution_count": 1,
   "id": "d663feb2",
   "metadata": {},
   "outputs": [
    {
     "data": {
      "text/plain": [
       "array([[3, 3, 3, 3],\n",
       "       [3, 3, 3, 3],\n",
       "       [3, 3, 3, 3]])"
      ]
     },
     "execution_count": 1,
     "metadata": {},
     "output_type": "execute_result"
    }
   ],
   "source": [
    "import numpy as np\n",
    "arr_1 = np.full((3, 4), 3)\n",
    "arr_1"
   ]
  },
  {
   "cell_type": "markdown",
   "id": "6bfada33",
   "metadata": {},
   "source": [
    "2. Создайте массив arr_2, заполненный случайными целыми числами от 0 до 9, размером 2х4."
   ]
  },
  {
   "cell_type": "code",
   "execution_count": 2,
   "id": "08a91a9a",
   "metadata": {},
   "outputs": [
    {
     "data": {
      "text/plain": [
       "array([[1, 3, 6, 3],\n",
       "       [3, 6, 3, 6]])"
      ]
     },
     "execution_count": 2,
     "metadata": {},
     "output_type": "execute_result"
    }
   ],
   "source": [
    "arr_2 = np.random.randint(0, 9, (2, 4))\n",
    "arr_2"
   ]
  },
  {
   "cell_type": "markdown",
   "id": "65d5331c",
   "metadata": {},
   "source": [
    "3. Выведите на экран количество элементов в созданных массивах arr_1 и arr_2."
   ]
  },
  {
   "cell_type": "code",
   "execution_count": 3,
   "id": "f0350780",
   "metadata": {},
   "outputs": [
    {
     "name": "stdout",
     "output_type": "stream",
     "text": [
      "размер массива arr_1:  12\n",
      "размер массива arr_2:  8\n"
     ]
    }
   ],
   "source": [
    "print(\"размер массива arr_1: \", arr_1.size)\n",
    "print(\"размер массива arr_2: \", arr_2.size)"
   ]
  },
  {
   "cell_type": "markdown",
   "id": "f203e6a3",
   "metadata": {},
   "source": [
    "4. Соедините массивы arr_1 и arr_2 по нулевой оси."
   ]
  },
  {
   "cell_type": "code",
   "execution_count": 4,
   "id": "8aef30fc",
   "metadata": {},
   "outputs": [
    {
     "data": {
      "text/plain": [
       "array([[3, 3, 3, 3],\n",
       "       [3, 3, 3, 3],\n",
       "       [3, 3, 3, 3],\n",
       "       [1, 3, 6, 3],\n",
       "       [3, 6, 3, 6]])"
      ]
     },
     "execution_count": 4,
     "metadata": {},
     "output_type": "execute_result"
    }
   ],
   "source": [
    "np.concatenate([arr_1, arr_2])"
   ]
  },
  {
   "cell_type": "markdown",
   "id": "97222893",
   "metadata": {},
   "source": [
    "5. Создайте массив arr_3 из кортежа чисел (1, 8, 6, 5, 8, 3) с помощью функции np.array()."
   ]
  },
  {
   "cell_type": "code",
   "execution_count": 6,
   "id": "fd4a6e99",
   "metadata": {},
   "outputs": [
    {
     "data": {
      "text/plain": [
       "array([1, 8, 6, 5, 8, 3])"
      ]
     },
     "execution_count": 6,
     "metadata": {},
     "output_type": "execute_result"
    }
   ],
   "source": [
    "arr_3 = np.array((1, 8, 6, 5, 8, 3))\n",
    "arr_3"
   ]
  },
  {
   "cell_type": "markdown",
   "id": "47922d80",
   "metadata": {},
   "source": [
    "6. Умножьте каждый элемент массива arr_3 на число 3 и прибавьте к каждому элементу 1. Результат запишите в новый массив arr_4."
   ]
  },
  {
   "cell_type": "code",
   "execution_count": 9,
   "id": "4d5cd727",
   "metadata": {},
   "outputs": [
    {
     "data": {
      "text/plain": [
       "array([ 4, 25, 19, 16, 25, 10])"
      ]
     },
     "execution_count": 9,
     "metadata": {},
     "output_type": "execute_result"
    }
   ],
   "source": [
    "arr_4 = arr_3 * 3 + 1\n",
    "arr_4"
   ]
  },
  {
   "cell_type": "markdown",
   "id": "293a4730",
   "metadata": {},
   "source": [
    "7. Преобразуйте масcив arr_3 к двумерному массиву 2х3. Результат запишите в массив arr_5."
   ]
  },
  {
   "cell_type": "code",
   "execution_count": 10,
   "id": "7ffb865e",
   "metadata": {},
   "outputs": [
    {
     "data": {
      "text/plain": [
       "array([[1, 8, 6],\n",
       "       [5, 8, 3]])"
      ]
     },
     "execution_count": 10,
     "metadata": {},
     "output_type": "execute_result"
    }
   ],
   "source": [
    "arr_5 = arr_3.reshape((2, 3))\n",
    "arr_5"
   ]
  },
  {
   "cell_type": "markdown",
   "id": "bc72065c",
   "metadata": {},
   "source": [
    "8. Определите минимальные элементы массива arr_5 вдоль первой оси."
   ]
  },
  {
   "cell_type": "code",
   "execution_count": 11,
   "id": "5ab23a63",
   "metadata": {},
   "outputs": [
    {
     "data": {
      "text/plain": [
       "array([1, 3])"
      ]
     },
     "execution_count": 11,
     "metadata": {},
     "output_type": "execute_result"
    }
   ],
   "source": [
    "arr_5.min(axis = 1)"
   ]
  },
  {
   "cell_type": "markdown",
   "id": "875c6a45",
   "metadata": {},
   "source": [
    "9. Вычислите среднее арифметическое всех элементов массива arr_5."
   ]
  },
  {
   "cell_type": "code",
   "execution_count": 12,
   "id": "ad4a32c1",
   "metadata": {},
   "outputs": [
    {
     "data": {
      "text/plain": [
       "5.166666666666667"
      ]
     },
     "execution_count": 12,
     "metadata": {},
     "output_type": "execute_result"
    }
   ],
   "source": [
    "arr_5.mean()"
   ]
  },
  {
   "cell_type": "markdown",
   "id": "2d0e416e",
   "metadata": {},
   "source": [
    "10. Создайте массив arr_6, состоящий из квадратов чисел от 0 до 10."
   ]
  },
  {
   "cell_type": "code",
   "execution_count": 13,
   "id": "44446d86",
   "metadata": {},
   "outputs": [
    {
     "data": {
      "text/plain": [
       "array([ 0,  1,  4,  9, 16, 25, 36, 49, 64, 81], dtype=int32)"
      ]
     },
     "execution_count": 13,
     "metadata": {},
     "output_type": "execute_result"
    }
   ],
   "source": [
    "arr_6 = (np.arange(0,10)) ** 2\n",
    "arr_6"
   ]
  },
  {
   "cell_type": "markdown",
   "id": "be5d1e7d",
   "metadata": {},
   "source": [
    "11. Выведите каждый второй элемент массива arr_6."
   ]
  },
  {
   "cell_type": "code",
   "execution_count": 14,
   "id": "fd2fe2e4",
   "metadata": {},
   "outputs": [
    {
     "data": {
      "text/plain": [
       "array([ 1,  9, 25, 49, 81], dtype=int32)"
      ]
     },
     "execution_count": 14,
     "metadata": {},
     "output_type": "execute_result"
    }
   ],
   "source": [
    "arr_6[1::2]"
   ]
  },
  {
   "cell_type": "markdown",
   "id": "a65cedf9",
   "metadata": {},
   "source": [
    "12. Выведите элементы массива arr_6 в обратном порядке."
   ]
  },
  {
   "cell_type": "code",
   "execution_count": 15,
   "id": "1ceecb74",
   "metadata": {},
   "outputs": [
    {
     "data": {
      "text/plain": [
       "array([81, 64, 49, 36, 25, 16,  9,  4,  1,  0], dtype=int32)"
      ]
     },
     "execution_count": 15,
     "metadata": {},
     "output_type": "execute_result"
    }
   ],
   "source": [
    "arr_6[::-1]"
   ]
  },
  {
   "cell_type": "markdown",
   "id": "753b970f",
   "metadata": {},
   "source": [
    "13. Каждому второму элементу массива arr_6 присвойте значение 2."
   ]
  },
  {
   "cell_type": "code",
   "execution_count": 16,
   "id": "ed710674",
   "metadata": {},
   "outputs": [
    {
     "data": {
      "text/plain": [
       "array([ 0,  2,  4,  2, 16,  2, 36,  2, 64,  2], dtype=int32)"
      ]
     },
     "execution_count": 16,
     "metadata": {},
     "output_type": "execute_result"
    }
   ],
   "source": [
    "arr_6[1::2] = 2\n",
    "arr_6"
   ]
  },
  {
   "cell_type": "markdown",
   "id": "8a8bbbb5",
   "metadata": {},
   "source": [
    "14. Проверьте, есть ли в массиве arr_6 значение 49."
   ]
  },
  {
   "cell_type": "code",
   "execution_count": 18,
   "id": "3cce2713",
   "metadata": {},
   "outputs": [
    {
     "data": {
      "text/plain": [
       "array([], dtype=int32)"
      ]
     },
     "execution_count": 18,
     "metadata": {},
     "output_type": "execute_result"
    }
   ],
   "source": [
    "condition = (arr_6 == 49)\n",
    "np.extract(condition, arr_6)"
   ]
  },
  {
   "cell_type": "markdown",
   "id": "175bfd4c",
   "metadata": {},
   "source": [
    "15. Создайте двумерный массив А, состоящий из положительных и отрицательных чисел. Из массива A выберите все отрицательные элементы и запишите их в одномерный массив B."
   ]
  },
  {
   "cell_type": "code",
   "execution_count": 32,
   "id": "9ab1d6ac",
   "metadata": {},
   "outputs": [
    {
     "data": {
      "text/plain": [
       "array([-4, -1, -8, -9, -9, -9])"
      ]
     },
     "execution_count": 32,
     "metadata": {},
     "output_type": "execute_result"
    }
   ],
   "source": [
    "A = np.random.randint(-10, 10, (3, 3))\n",
    "condition = (A < 0)\n",
    "B = np.extract(condition, A)\n",
    "B"
   ]
  }
 ],
 "metadata": {
  "kernelspec": {
   "display_name": "Python 3",
   "language": "python",
   "name": "python3"
  },
  "language_info": {
   "codemirror_mode": {
    "name": "ipython",
    "version": 3
   },
   "file_extension": ".py",
   "mimetype": "text/x-python",
   "name": "python",
   "nbconvert_exporter": "python",
   "pygments_lexer": "ipython3",
   "version": "3.8.8"
  }
 },
 "nbformat": 4,
 "nbformat_minor": 5
}
