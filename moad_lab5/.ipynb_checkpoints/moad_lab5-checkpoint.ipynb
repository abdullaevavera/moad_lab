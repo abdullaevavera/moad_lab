{
 "cells": [
  {
   "cell_type": "markdown",
   "metadata": {},
   "source": [
    "Практическое задание №5\n",
    "Абдуллаева Вера группа 494а"
   ]
  },
  {
   "cell_type": "markdown",
   "metadata": {},
   "source": [
    "Задание: проверить, отличается ли время ожидания такси и\n",
    "продолжительность поездок по этим городам?"
   ]
  },
  {
   "cell_type": "markdown",
   "metadata": {},
   "source": [
    "1) Проверим время ожидания такси в Мехико. Мы предполагаем, что среднее\n",
    "время ожидания – это десять минут. Для проверки одновыборочного критерия\n",
    "мы воспользуемся методом ttest_1samp из stats. Необходимо передать в\n",
    "функцию выборку и то значение среднего, которое мы ожидаем увидеть.\n",
    "Результатом работы этого метода будет некоторый класс, который возвращает\n",
    "два параметра: statistic – t-статистика, и рассчитанный p-value.\n",
    "- Каким получился p-value? Принимаем или отвергаем H0?"
   ]
  },
  {
   "cell_type": "code",
   "execution_count": 6,
   "metadata": {},
   "outputs": [
    {
     "name": "stdout",
     "output_type": "stream",
     "text": [
      "          id                vendor_id      pickup_datetime  \\\n",
      "0          1  México DF Taxi de Sitio  2016-09-16 07:14:12   \n",
      "1          2     México DF Taxi Libre  2016-09-18 06:16:33   \n",
      "2          3     México DF Taxi Libre  2016-09-18 10:11:50   \n",
      "3          4     México DF Taxi Libre  2016-09-18 10:23:38   \n",
      "4          5     México DF Taxi Libre  2016-09-18 10:44:18   \n",
      "...      ...                      ...                  ...   \n",
      "12689  12690     México DF Radio Taxi  2016-10-27 09:10:05   \n",
      "12690  12691  México DF Taxi de Sitio  2016-10-27 10:53:15   \n",
      "12691  12692     México DF Taxi Libre  2016-10-27 11:19:44   \n",
      "12692  12693  México DF Taxi de Sitio  2016-10-28 06:49:41   \n",
      "12693  12694     México DF Radio Taxi  2016-10-27 10:26:38   \n",
      "\n",
      "          dropoff_datetime  pickup_longitude  pickup_latitude  \\\n",
      "0      2016-09-18 04:41:40        -99.097369        19.416874   \n",
      "1      2016-09-18 10:11:43        -99.297148        19.322128   \n",
      "2      2016-09-18 10:23:11        -99.289603        19.326263   \n",
      "3      2016-09-18 10:30:53        -99.271161        19.328875   \n",
      "4      2016-09-18 10:51:40        -99.282761        19.326944   \n",
      "...                    ...               ...              ...   \n",
      "12689  2016-10-27 10:14:10        -99.180762        19.369210   \n",
      "12690  2016-10-27 11:01:53        -99.059582        19.307219   \n",
      "12691  2016-10-27 11:38:35        -99.170637        19.283637   \n",
      "12692  2016-10-28 06:51:25        -99.194384        19.396768   \n",
      "12693  2016-10-28 07:10:21        -99.180135        19.369919   \n",
      "\n",
      "       dropoff_longitude  dropoff_latitude store_and_fwd_flag  trip_duration  \\\n",
      "0             -99.202729         19.430353                  N         120449   \n",
      "1             -99.289949         19.326538                  N          14110   \n",
      "2             -99.271874         19.328530                  N            681   \n",
      "3             -99.279900         19.326256                  N            436   \n",
      "4             -99.291705         19.322754                  N            442   \n",
      "...                  ...               ...                ...            ...   \n",
      "12689         -99.180013         19.370270                  N           3846   \n",
      "12690         -99.065798         19.306472                  N            518   \n",
      "12691         -99.178194         19.280982                  N           1131   \n",
      "12692         -99.194622         19.396717                  N            104   \n",
      "12693         -99.180551         19.372276                  N          31424   \n",
      "\n",
      "       dist_meters  wait_sec  \n",
      "0            12373       242  \n",
      "1             1700       461  \n",
      "2             2848       129  \n",
      "3             1409       106  \n",
      "4             1567        85  \n",
      "...            ...       ...  \n",
      "12689         8261       427  \n",
      "12690         2498       115  \n",
      "12691         6051       228  \n",
      "12692           49        96  \n",
      "12693         3448       217  \n",
      "\n",
      "[12694 rows x 12 columns]\n"
     ]
    }
   ],
   "source": [
    "from scipy import stats\n",
    "import pandas as pd\n",
    "import numpy as np\n",
    "\n",
    "taxi_bog = pd.read_csv('C:\\\\Users\\\\user\\\\Desktop\\\\Методы анализа и обработки данных\\\\moad_lab5\\\\bog_clean.csv') \n",
    "taxi_mex = pd.read_csv('C:\\\\Users\\\\user\\\\Desktop\\\\Методы анализа и обработки данных\\\\moad_lab5\\\\mex_clean.csv')\n",
    "print(taxi_mex)"
   ]
  },
  {
   "cell_type": "code",
   "execution_count": 3,
   "metadata": {},
   "outputs": [
    {
     "data": {
      "text/plain": [
       "Ttest_1sampResult(statistic=2.2548048375648806, pvalue=0.02416255063784319)"
      ]
     },
     "execution_count": 3,
     "metadata": {},
     "output_type": "execute_result"
    }
   ],
   "source": [
    "stats.ttest_1samp(taxi_mex['wait_sec'], popmean = 600)"
   ]
  },
  {
   "cell_type": "markdown",
   "metadata": {},
   "source": [
    "Гипотеза H0 - это гипотеза об отсутствии различий, это то, что мы хотим опровергнуть.\n",
    "\n",
    "Гипотеза H1 - это гипотеза о значимости различий, это то, что мы хотим доказать.\n",
    "- pvalue < α ⇒ H0/H1 отвергаем на уровне значимости α, на имеющихся данных\n",
    "- pvalue > α ⇒ H0/H1 не отвергаем на уровне значимости α, на имеющихся данных\n",
    " - α = 0.05\n",
    " \n",
    "Вывод: H0 отвергаем, потому что pvalue < 0.05. Следовательно среднее время ожидания < 10 мин.\n"
   ]
  },
  {
   "cell_type": "markdown",
   "metadata": {},
   "source": [
    "2) Теперь сравним время поездки по Мехико и по Боготе. Мы предполагаем,\n",
    "что средняя продолжительность поездок по двум городам одинаковая. Мы\n",
    "можем подсчитать также t-статистику. Для этого воспользуемся методом\n",
    "ttest_ind.\n",
    "- Какой можно сделать вывод? Отличается ли продолжительность поездок?\n",
    "Аналогично самостоятельно проверьте отличается ли время ожидания такси\n",
    "в Мехико от времени ожидания в Боготе."
   ]
  },
  {
   "cell_type": "code",
   "execution_count": 7,
   "metadata": {},
   "outputs": [
    {
     "data": {
      "text/plain": [
       "Ttest_indResult(statistic=10.479475759505036, pvalue=1.3031054192553683e-25)"
      ]
     },
     "execution_count": 7,
     "metadata": {},
     "output_type": "execute_result"
    }
   ],
   "source": [
    "stats.ttest_ind(taxi_bog['trip_duration'], taxi_mex['trip_duration'])"
   ]
  },
  {
   "cell_type": "markdown",
   "metadata": {},
   "source": [
    "Вывод: pvalue > 0.05, следовательно H1 принимается."
   ]
  },
  {
   "cell_type": "code",
   "execution_count": 8,
   "metadata": {},
   "outputs": [
    {
     "data": {
      "text/plain": [
       "Ttest_indResult(statistic=-0.1782077799403465, pvalue=0.8585620912334861)"
      ]
     },
     "execution_count": 8,
     "metadata": {},
     "output_type": "execute_result"
    }
   ],
   "source": [
    "stats.ttest_ind(taxi_bog['wait_sec'], taxi_mex['wait_sec'])\n"
   ]
  },
  {
   "cell_type": "markdown",
   "metadata": {},
   "source": [
    "> Какой можно сделать вывод? Отличается ли продолжительность поездок?\n",
    "\n",
    "Вывод: H1 принимается, а значит, продолжитель поездок различается. "
   ]
  }
 ],
 "metadata": {
  "interpreter": {
   "hash": "4d66a76a2d782309e0761fb6d8948c328ed5b5b17934eac4633e56aa03bf0a66"
  },
  "kernelspec": {
   "display_name": "Python 3",
   "language": "python",
   "name": "python3"
  },
  "language_info": {
   "codemirror_mode": {
    "name": "ipython",
    "version": 3
   },
   "file_extension": ".py",
   "mimetype": "text/x-python",
   "name": "python",
   "nbconvert_exporter": "python",
   "pygments_lexer": "ipython3",
   "version": "3.8.8"
  }
 },
 "nbformat": 4,
 "nbformat_minor": 2
}
